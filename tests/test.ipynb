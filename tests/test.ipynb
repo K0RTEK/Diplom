{
 "cells": [
  {
   "metadata": {
    "ExecuteTime": {
     "end_time": "2025-05-25T00:34:44.906561Z",
     "start_time": "2025-05-25T00:34:44.898156Z"
    }
   },
   "cell_type": "code",
   "source": [
    "from src.data_upload import load_and_preprocess_data\n",
    "from src.features import (\n",
    "    create_rolling_features,\n",
    "    add_geo_features\n",
    ")\n",
    "\n",
    "from src.visualization import (\n",
    "    plot_tsne_latent,\n",
    "    plot_training_curves,\n",
    "    plot_error_distribution,\n",
    "    plot_reconstruction_error_distribution,\n",
    "    plot_clusters_on_map\n",
    ")\n",
    "\n",
    "from src.builder import detect_anomalies_main"
   ],
   "id": "eee30d09cc091cc2",
   "outputs": [],
   "execution_count": 3
  },
  {
   "metadata": {},
   "cell_type": "code",
   "outputs": [],
   "execution_count": null,
   "source": [
    "if __name__ == '__main__':\n",
    "    df = load_and_preprocess_data(r'D:\\University\\Diplom\\FINAL\\transactions.csv')\n",
    "    df = create_rolling_features(df)\n",
    "    df = add_geo_features(df)"
   ],
   "id": "11bb3fdd18789a95"
  }
 ],
 "metadata": {
  "kernelspec": {
   "display_name": "Python 3",
   "language": "python",
   "name": "python3"
  },
  "language_info": {
   "codemirror_mode": {
    "name": "ipython",
    "version": 2
   },
   "file_extension": ".py",
   "mimetype": "text/x-python",
   "name": "python",
   "nbconvert_exporter": "python",
   "pygments_lexer": "ipython2",
   "version": "2.7.6"
  }
 },
 "nbformat": 4,
 "nbformat_minor": 5
}
