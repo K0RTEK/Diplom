{
 "cells": [
  {
   "metadata": {
    "ExecuteTime": {
     "end_time": "2025-05-25T00:34:44.906561Z",
     "start_time": "2025-05-25T00:34:44.898156Z"
    }
   },
   "cell_type": "code",
   "source": [
    "from src.model import save_model\n",
    "from src.builder import detect_anomalies_main\n",
    "from src.data_upload import load_and_preprocess_data\n",
    "from src.features import (\n",
    "    create_rolling_features,\n",
    "    add_geo_features\n",
    ")\n",
    "from src.visualization import (\n",
    "    plot_tsne_latent,\n",
    "    plot_training_curves,\n",
    "    plot_error_distribution,\n",
    "    plot_reconstruction_error_distribution\n",
    ")"
   ],
   "id": "eee30d09cc091cc2",
   "outputs": [],
   "execution_count": 3
  },
  {
   "metadata": {},
   "cell_type": "code",
   "outputs": [],
   "execution_count": null,
   "source": [
    "if __name__ == '__main__':\n",
    "    df = load_and_preprocess_data(r'D:\\University\\Diplom\\FINAL\\transactions.csv')\n",
    "    df = create_rolling_features(df)\n",
    "    df = add_geo_features(df)"
   ],
   "id": "11bb3fdd18789a95"
  },
  {
   "metadata": {},
   "cell_type": "code",
   "outputs": [],
   "execution_count": null,
   "source": [
    "    base_features = [\n",
    "        'count_1m',\n",
    "        'count_5m',\n",
    "        'count_10m',\n",
    "        'count_20m',\n",
    "        'count_30m',\n",
    "        'count_40m',\n",
    "        'count_50m',\n",
    "        'count_60m',\n",
    "        'count_120m',\n",
    "        'count_180m',\n",
    "        'count_240m',\n",
    "        'count_480m',\n",
    "        'count_720m',\n",
    "        'count_1440m',\n",
    "        'time_diff_prev', 'finalticketprice', 'baseticketprice', 'ticketscount'\n",
    "    ]\n",
    "\n",
    "    geo_features = ['distance_prev', 'speed_kmh', 'has_coords', 'geo_cluster']\n",
    "\n",
    "    feature_cols = base_features + geo_features\n",
    "\n",
    "    df_test, model, scaler, history = detect_anomalies_main(df, feature_cols)"
   ],
   "id": "24a6b835e4b57c5a"
  },
  {
   "metadata": {},
   "cell_type": "code",
   "outputs": [],
   "execution_count": null,
   "source": [
    "    plot_training_curves(history)\n",
    "    plot_error_distribution(df_test)\n",
    "    plot_reconstruction_error_distribution(df_test)\n",
    "    plot_tsne_latent(model, df_test, scaler, feature_cols)"
   ],
   "id": "ad7e7e3d4d14f8e3"
  },
  {
   "metadata": {},
   "cell_type": "code",
   "outputs": [],
   "execution_count": null,
   "source": "    save_model(model, r\"C:\\Users\\k.sidorov\\PycharmProjects\\Diplom\\compiled_models\")",
   "id": "23859f556b6ada53"
  }
 ],
 "metadata": {
  "kernelspec": {
   "display_name": "Python 3",
   "language": "python",
   "name": "python3"
  },
  "language_info": {
   "codemirror_mode": {
    "name": "ipython",
    "version": 2
   },
   "file_extension": ".py",
   "mimetype": "text/x-python",
   "name": "python",
   "nbconvert_exporter": "python",
   "pygments_lexer": "ipython2",
   "version": "2.7.6"
  }
 },
 "nbformat": 4,
 "nbformat_minor": 5
}
